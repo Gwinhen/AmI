{
 "cells": [
  {
   "cell_type": "code",
   "execution_count": 1,
   "metadata": {
    "scrolled": false
   },
   "outputs": [
    {
     "name": "stdout",
     "output_type": "stream",
     "text": [
      "register hook for relu1_1\n",
      "register hook for relu1_2\n",
      "register hook for pool1\n",
      "register hook for relu2_1\n",
      "register hook for relu2_2\n",
      "register hook for pool2\n",
      "register hook for relu3_1\n",
      "register hook for relu3_2\n",
      "register hook for relu3_3\n",
      "register hook for pool3\n",
      "register hook for relu4_1\n",
      "register hook for relu4_2\n",
      "register hook for relu4_3\n",
      "register hook for pool4\n",
      "register hook for relu5_1\n",
      "register hook for relu5_2\n",
      "register hook for relu5_3\n",
      "register hook for pool5\n",
      "register hook for relu6\n",
      "register hook for relu7\n"
     ]
    },
    {
     "data": {
      "text/plain": [
       "Vgg_face_dag(\n",
       "  (conv1_1): Conv2d(3, 64, kernel_size=[3, 3], stride=(1, 1), padding=(1, 1))\n",
       "  (relu1_1): ReLU(inplace=True)\n",
       "  (conv1_2): Conv2d(64, 64, kernel_size=[3, 3], stride=(1, 1), padding=(1, 1))\n",
       "  (relu1_2): ReLU(inplace=True)\n",
       "  (pool1): MaxPool2d(kernel_size=[2, 2], stride=[2, 2], padding=0, dilation=1, ceil_mode=False)\n",
       "  (conv2_1): Conv2d(64, 128, kernel_size=[3, 3], stride=(1, 1), padding=(1, 1))\n",
       "  (relu2_1): ReLU(inplace=True)\n",
       "  (conv2_2): Conv2d(128, 128, kernel_size=[3, 3], stride=(1, 1), padding=(1, 1))\n",
       "  (relu2_2): ReLU(inplace=True)\n",
       "  (pool2): MaxPool2d(kernel_size=[2, 2], stride=[2, 2], padding=0, dilation=1, ceil_mode=False)\n",
       "  (conv3_1): Conv2d(128, 256, kernel_size=[3, 3], stride=(1, 1), padding=(1, 1))\n",
       "  (relu3_1): ReLU(inplace=True)\n",
       "  (conv3_2): Conv2d(256, 256, kernel_size=[3, 3], stride=(1, 1), padding=(1, 1))\n",
       "  (relu3_2): ReLU(inplace=True)\n",
       "  (conv3_3): Conv2d(256, 256, kernel_size=[3, 3], stride=(1, 1), padding=(1, 1))\n",
       "  (relu3_3): ReLU(inplace=True)\n",
       "  (pool3): MaxPool2d(kernel_size=[2, 2], stride=[2, 2], padding=0, dilation=1, ceil_mode=False)\n",
       "  (conv4_1): Conv2d(256, 512, kernel_size=[3, 3], stride=(1, 1), padding=(1, 1))\n",
       "  (relu4_1): ReLU(inplace=True)\n",
       "  (conv4_2): Conv2d(512, 512, kernel_size=[3, 3], stride=(1, 1), padding=(1, 1))\n",
       "  (relu4_2): ReLU(inplace=True)\n",
       "  (conv4_3): Conv2d(512, 512, kernel_size=[3, 3], stride=(1, 1), padding=(1, 1))\n",
       "  (relu4_3): ReLU(inplace=True)\n",
       "  (pool4): MaxPool2d(kernel_size=[2, 2], stride=[2, 2], padding=0, dilation=1, ceil_mode=False)\n",
       "  (conv5_1): Conv2d(512, 512, kernel_size=[3, 3], stride=(1, 1), padding=(1, 1))\n",
       "  (relu5_1): ReLU(inplace=True)\n",
       "  (conv5_2): Conv2d(512, 512, kernel_size=[3, 3], stride=(1, 1), padding=(1, 1))\n",
       "  (relu5_2): ReLU(inplace=True)\n",
       "  (conv5_3): Conv2d(512, 512, kernel_size=[3, 3], stride=(1, 1), padding=(1, 1))\n",
       "  (relu5_3): ReLU(inplace=True)\n",
       "  (pool5): MaxPool2d(kernel_size=[2, 2], stride=[2, 2], padding=0, dilation=1, ceil_mode=False)\n",
       "  (fc6): Linear(in_features=25088, out_features=4096, bias=True)\n",
       "  (relu6): ReLU(inplace=True)\n",
       "  (dropout6): Dropout(p=0.5, inplace=False)\n",
       "  (fc7): Linear(in_features=4096, out_features=4096, bias=True)\n",
       "  (relu7): ReLU(inplace=True)\n",
       "  (dropout7): Dropout(p=0.5, inplace=False)\n",
       "  (fc8): Linear(in_features=4096, out_features=2622, bias=True)\n",
       ")"
      ]
     },
     "execution_count": 1,
     "metadata": {},
     "output_type": "execute_result"
    }
   ],
   "source": [
    "import torch\n",
    "import utils\n",
    "import os\n",
    "import numpy as np\n",
    "from collections import OrderedDict\n",
    "from vgg_face_dag import vgg_face_dag\n",
    "from ami_model import AmIModel\n",
    "\n",
    "device = torch.device('cuda')\n",
    "# vgg_weight = './vgg_face_caffe.pth'\n",
    "# vgg_weight = './keras_vgg_face.pth'\n",
    "vgg_weight = './vgg_face_dag.pth'\n",
    "\n",
    "# ami model\n",
    "SKIP_LAYERS = utils.SKIP_LAYERS\n",
    "attribute_model = AmIModel(vgg_face_dag(vgg_weight), 60., 2.15, 50.)\n",
    "attribute_model.to(device)\n",
    "attribute_model.eval()\n",
    "attribute_model.register_my_hook(skip_layers=SKIP_LAYERS, ami_data=utils.load_neuron_set_lists())\n",
    "\n",
    "# original model\n",
    "vgg_net = vgg_face_dag(vgg_weight)\n",
    "vgg_net.to(device)\n",
    "vgg_net.eval()"
   ]
  },
  {
   "cell_type": "code",
   "execution_count": 2,
   "metadata": {},
   "outputs": [],
   "source": [
    "vgg_root   = '../../data/vgg_face_caffe/'\n",
    "vgg_names  = utils.read_list(vgg_root + 'names.txt')"
   ]
  },
  {
   "cell_type": "code",
   "execution_count": 3,
   "metadata": {
    "scrolled": false
   },
   "outputs": [
    {
     "name": "stdout",
     "output_type": "stream",
     "text": [
      "False positive rate: 33/343=0.09620991253644315\n"
     ]
    }
   ],
   "source": [
    "img_dir = '/tmp/sized_full_images/'\n",
    "img_list = utils.read_list('./benign_list.txt')\n",
    "\n",
    "img_count = 0\n",
    "adv_count = 0\n",
    "\n",
    "with torch.no_grad():\n",
    "    for img_name in img_list:\n",
    "        img_name  = img_name.strip()\n",
    "        img_path  = os.path.join(img_dir, img_name)\n",
    "\n",
    "        prob_original  = vgg_net(utils.get_data(img_path).to(device))\n",
    "        prob_attribute = attribute_model(utils.get_data(img_path).to(device))\n",
    "        id_original    = torch.max(prob_original, 1)[1].item()\n",
    "        id_attribute   = torch.max(prob_attribute, 1)[1].item()\n",
    "\n",
    "        id_gold = utils.get_identity(img_name, vgg_names)\n",
    "        \n",
    "        if id_gold == id_original:\n",
    "            img_count += 1\n",
    "        \n",
    "            ### consistency observer for detecting adversarial samples ###\n",
    "            if id_original != id_attribute:\n",
    "                adv_count += 1\n",
    "\n",
    "            # print('{:3} Gold-Original-Attribute: {:4}-{:4}-{:4}  |  Adversary: {:.4f} [{:3}/{:3}]'\n",
    "            #       .format(img_count, id_gold, id_original, id_attribute, \n",
    "            #               1.0*adv_count/img_count, adv_count, img_count))\n",
    "print(f'False positive rate: {adv_count}/{img_count}={adv_count/img_count}')"
   ]
  }
 ],
 "metadata": {
  "kernelspec": {
   "display_name": "Python 3",
   "language": "python",
   "name": "python3"
  },
  "language_info": {
   "codemirror_mode": {
    "name": "ipython",
    "version": 3
   },
   "file_extension": ".py",
   "mimetype": "text/x-python",
   "name": "python",
   "nbconvert_exporter": "python",
   "pygments_lexer": "ipython3",
   "version": "3.6.8"
  }
 },
 "nbformat": 4,
 "nbformat_minor": 2
}
